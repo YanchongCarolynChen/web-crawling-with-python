{
 "cells": [
  {
   "cell_type": "code",
   "execution_count": 42,
   "metadata": {},
   "outputs": [],
   "source": [
    "import requests\n",
    "from bs4 import BeautifulSoup\n",
    "\n",
    "douban = \"https://book.douban.com/subject/26610864/comments/hot?p=\"\n",
    "page = 1\n",
    "\n",
    "#comments > ul > li:nth-child(15) > div.comment > p\n",
    "while True:\n",
    "    url = douban + str(page)\n",
    "    req = requests.get(url)\n",
    "    soup = BeautifulSoup(req.content, \"html.parser\")\n",
    "    comments = soup.select(\"#comments > ul > li > div.comment > p\")\n",
    "    comment = [c.get_text() for c in comments]\n",
    "    if len(comment) == 0:\n",
    "        break\n",
    "    f = open('comments.txt', 'a')\n",
    "    for i in range(len(comment)):\n",
    "        f.write(comment[i] + \"\\n\")\n",
    "    f.close()\n",
    "    page +=1\n"
   ]
  }
 ],
 "metadata": {
  "kernelspec": {
   "display_name": "Python 3",
   "language": "python",
   "name": "python3"
  },
  "language_info": {
   "codemirror_mode": {
    "name": "ipython",
    "version": 3
   },
   "file_extension": ".py",
   "mimetype": "text/x-python",
   "name": "python",
   "nbconvert_exporter": "python",
   "pygments_lexer": "ipython3",
   "version": "3.6.4"
  }
 },
 "nbformat": 4,
 "nbformat_minor": 2
}
