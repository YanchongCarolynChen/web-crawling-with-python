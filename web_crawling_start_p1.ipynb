{
 "cells": [
  {
   "cell_type": "markdown",
   "metadata": {},
   "source": [
    "### 使用requests的基本， 可以用content和text来看对应获取到的内容"
   ]
  },
  {
   "cell_type": "code",
   "execution_count": 2,
   "metadata": {},
   "outputs": [
    {
     "name": "stdout",
     "output_type": "stream",
     "text": [
      "b'{\"r\":\"1\",\"signature\":\"\",\"error\":\"\\xe8\\xaf\\xb7\\xe7\\x99\\xbb\\xe5\\xbd\\x95\\xe5\\x90\\x8e\\xe4\\xbf\\xae\\xe6\\x94\\xb9\"}'\n",
      "{\"r\":\"1\",\"signature\":\"\",\"error\":\"请登录后修改\"}\n"
     ]
    }
   ],
   "source": [
    "import requests\n",
    "req = requests.post(\"https://www.douban.com/j/people/128668902/edit_signature\")\n",
    "print(req.content)\n",
    "print(req.text)"
   ]
  },
  {
   "cell_type": "markdown",
   "metadata": {},
   "source": [
    "### 对比使用params和不使用的区别 "
   ]
  },
  {
   "cell_type": "code",
   "execution_count": 4,
   "metadata": {},
   "outputs": [
    {
     "name": "stdout",
     "output_type": "stream",
     "text": [
      "b'{\"tags\":[\"\\xe7\\x83\\xad\\xe9\\x97\\xa8\",\"\\xe6\\x9c\\x80\\xe6\\x96\\xb0\",\"\\xe8\\xb1\\x86\\xe7\\x93\\xa3\\xe9\\xab\\x98\\xe5\\x88\\x86\",\"\\xe5\\x86\\xb7\\xe9\\x97\\xa8\\xe4\\xbd\\xb3\\xe7\\x89\\x87\",\"\\xe5\\x8d\\x8e\\xe8\\xaf\\xad\",\"\\xe6\\xac\\xa7\\xe7\\xbe\\x8e\",\"\\xe9\\x9f\\xa9\\xe5\\x9b\\xbd\",\"\\xe6\\x97\\xa5\\xe6\\x9c\\xac\"]}' \n",
      "\n",
      "{\"tags\":[\"热门\",\"最新\",\"豆瓣高分\",\"冷门佳片\",\"华语\",\"欧美\",\"韩国\",\"日本\"]} \n",
      "\n",
      "https://movie.douban.com/j/search_tags?type=movie&source=index\n"
     ]
    }
   ],
   "source": [
    "import requests\n",
    "payload = {\"type\":\"movie\", \"source\":\"index\"}\n",
    "req = requests.get(\"https://movie.douban.com/j/search_tags\", params = payload)\n",
    "print(req.content, \"\\n\")\n",
    "print(req.text, \"\\n\")\n",
    "print(req.url)"
   ]
  },
  {
   "cell_type": "code",
   "execution_count": 5,
   "metadata": {},
   "outputs": [
    {
     "name": "stdout",
     "output_type": "stream",
     "text": [
      "b'{\"tags\":[\"\\xe7\\x83\\xad\\xe9\\x97\\xa8\",\"\\xe6\\x9c\\x80\\xe6\\x96\\xb0\",\"\\xe8\\xb1\\x86\\xe7\\x93\\xa3\\xe9\\xab\\x98\\xe5\\x88\\x86\",\"\\xe5\\x86\\xb7\\xe9\\x97\\xa8\\xe4\\xbd\\xb3\\xe7\\x89\\x87\",\"\\xe5\\x8d\\x8e\\xe8\\xaf\\xad\",\"\\xe6\\xac\\xa7\\xe7\\xbe\\x8e\",\"\\xe9\\x9f\\xa9\\xe5\\x9b\\xbd\",\"\\xe6\\x97\\xa5\\xe6\\x9c\\xac\"]}'\n",
      "{\"tags\":[\"热门\",\"最新\",\"豆瓣高分\",\"冷门佳片\",\"华语\",\"欧美\",\"韩国\",\"日本\"]}\n",
      "https://movie.douban.com/j/search_tags?type=movie&source=index\n"
     ]
    }
   ],
   "source": [
    "import requests\n",
    "req = requests.get(\"https://movie.douban.com/j/search_tags?type=movie&source=index\")\n",
    "print(req.content)\n",
    "print(req.text)\n",
    "print(req.url)"
   ]
  },
  {
   "cell_type": "markdown",
   "metadata": {},
   "source": [
    "### 保存图片到本地"
   ]
  },
  {
   "cell_type": "code",
   "execution_count": 3,
   "metadata": {},
   "outputs": [],
   "source": [
    "# 利用图片链接保存图片到本地\n",
    "# wb是binary文件\n",
    "import requests\n",
    "req = requests.get(\"https://img3.doubanio.com/view/note/l/public/p50145810.webp\")\n",
    "f = open('test.jpg', \"wb\")\n",
    "f.write(req.content)\n",
    "f.close()"
   ]
  },
  {
   "cell_type": "markdown",
   "metadata": {},
   "source": [
    "### 保存豆瓣读书用户的头像 p1"
   ]
  },
  {
   "cell_type": "code",
   "execution_count": 92,
   "metadata": {},
   "outputs": [],
   "source": [
    "from bs4 import BeautifulSoup\n",
    "import requests\n",
    "req = requests.get(\"https://book.douban.com/subject/30183948/comments/\")\n",
    "\n",
    "soup = BeautifulSoup(req.content, \"html.parser\")\n",
    "comments = soup.find(id = \"comments\")\n",
    "avatar = comments.find_all(class_ = \"avatar\")\n",
    "avatar_list = [i.find('img') for i in avatar]\n",
    "img_list = [img.get('src') for img in avatar_list]\n",
    "#print(avatar.prettify())\n",
    "for link in img_list:\n",
    "    req = requests.get(link)\n",
    "    f = open('profile picture/' + link.split('/')[-1], 'wb')\n",
    "    f.write(req.content)\n",
    "    f.close"
   ]
  },
  {
   "cell_type": "markdown",
   "metadata": {},
   "source": [
    "### 保存豆瓣读书用户的头像 p2"
   ]
  },
  {
   "cell_type": "code",
   "execution_count": null,
   "metadata": {},
   "outputs": [],
   "source": [
    "for link in soup.select(\"#comments ul li div.avatar a img\"):\n",
    "    pic_list = link.get('src')\n",
    "    req = requests.get(pic_list)\n",
    "    f = open('profile picture/' + pic_list.split('/')[-1], 'wb')\n",
    "    f.write(req.content)\n",
    "    f.close"
   ]
  },
  {
   "cell_type": "markdown",
   "metadata": {},
   "source": [
    "### 使用标签 explore"
   ]
  },
  {
   "cell_type": "code",
   "execution_count": 17,
   "metadata": {},
   "outputs": [
    {
     "data": {
      "text/plain": [
       "<title>\n",
       "    悠悠我心 短评\n",
       "</title>"
      ]
     },
     "execution_count": 17,
     "metadata": {},
     "output_type": "execute_result"
    }
   ],
   "source": [
    "soup.title \n",
    "# <title>\n",
    "#    悠悠我心 短评\n",
    "# </title>\n",
    "soup.title.name \n",
    "# 'title'\n",
    "soup.title.string \n",
    "# '\\n    悠悠我心 短评\\n'\n",
    "soup.title.parent.name\n",
    "# 'head'\n",
    "soup.p\n",
    "# <p class=\"appintro-title\">豆瓣</p>\n",
    "soup.p['class']\n",
    "# ['appintro-title']\n",
    "soup.a\n",
    "# 访问第一个a标签\n",
    "soup.find_all('a')\n",
    "# 访问所有a标签\n",
    "soup.find(id ='doubanapp-tip')\n",
    "# 找到这个id下面所有的标签， 即所有的内容"
   ]
  },
  {
   "cell_type": "code",
   "execution_count": 31,
   "metadata": {},
   "outputs": [
    {
     "name": "stdout",
     "output_type": "stream",
     "text": [
      "https://www.douban.com/accounts/login?source=book\n",
      "https://www.douban.com/accounts/register?source=book\n",
      "https://www.douban.com/doubanapp/app?channel=top-nav\n",
      "https://www.douban.com/doubanapp/redirect?channel=top-nav&direct_dl=1&download=iOS\n",
      "https://www.douban.com/doubanapp/redirect?channel=top-nav&direct_dl=1&download=Android\n",
      "https://www.douban.com/doubanapp/app?channel=qipao\n",
      "javascript: void 0;\n",
      "https://www.douban.com\n",
      "https://book.douban.com\n",
      "https://movie.douban.com\n",
      "https://music.douban.com\n",
      "https://www.douban.com/location\n",
      "https://www.douban.com/group\n",
      "https://read.douban.com/?dcs=top-nav&dcm=douban\n",
      "https://douban.fm/?from_=shire_top_nav\n",
      "https://time.douban.com/?dt_time_source=douban-web_top_nav\n",
      "https://market.douban.com/?utm_campaign=douban_top_nav&utm_source=douban&utm_medium=pc_web\n",
      "#more\n",
      "https://ypy.douban.com\n",
      "https://book.douban.com\n",
      "https://book.douban.com/cart/\n",
      "https://read.douban.com/ebooks/?dcs=book-nav&dcm=douban\n",
      "https://market.douban.com/book?utm_campaign=book_nav_freyr&utm_source=douban&utm_medium=pc_web\n",
      "https://book.douban.com/annual/2017?source=navigation\n",
      "https://book.douban.com/standbyme/2017?source=navigation\n",
      "https://market.douban.com/cart/?biz_type=book&utm_campaign=book_nav_cart&utm_source=douban&utm_medium=pc_web\n",
      "hot\n",
      "new\n",
      "follows\n",
      "https://www.douban.com/people/yljlgkm/\n",
      "javascript:;\n",
      "https://www.douban.com/people/yljlgkm/\n",
      "https://www.douban.com/people/144325098/\n",
      "javascript:;\n",
      "https://www.douban.com/people/144325098/\n",
      "https://www.douban.com/people/54989059/\n",
      "javascript:;\n",
      "https://www.douban.com/people/54989059/\n",
      "https://www.douban.com/people/exiaoshan/\n",
      "javascript:;\n",
      "https://www.douban.com/people/exiaoshan/\n",
      "https://www.douban.com/people/175907760/\n",
      "javascript:;\n",
      "https://www.douban.com/people/175907760/\n",
      "https://www.douban.com/people/178284357/\n",
      "javascript:;\n",
      "https://www.douban.com/people/178284357/\n",
      "https://www.douban.com/login?reason=collect&ck=\n",
      "https://book.douban.com/subject/30183948/\n",
      "https://book.douban.com/subject/30183948/\n",
      "https://www.douban.com/hnypt/variformcyst.py\n",
      "https://www.douban.com/about\n",
      "https://www.douban.com/jobs\n",
      "https://www.douban.com/about?topic=contactus\n",
      "https://www.douban.com/about?policy=disclaimer\n",
      "https://help.douban.com/?app=book\n",
      "https://book.douban.com/library_invitation\n",
      "https://www.douban.com/doubanapp/\n",
      "https://www.douban.com/partner/\n"
     ]
    }
   ],
   "source": [
    "# 从文档中找到所有a标签的链接\n",
    "for link in soup.find_all('a'):\n",
    "    print(link.get('href'))"
   ]
  },
  {
   "cell_type": "code",
   "execution_count": null,
   "metadata": {},
   "outputs": [],
   "source": [
    "soup.get_text() # 应该是<p></p> & <title></title> & <spam></span>标签里面的都会识别到"
   ]
  },
  {
   "cell_type": "code",
   "execution_count": 67,
   "metadata": {},
   "outputs": [],
   "source": [
    "#comments > ul > li:nth-child(1) > div.avatar > a\n",
    "comments_tag_a = soup.select(\"#comments ul li div.avatar a img\")\n",
    "comments_tag_a"
   ]
  },
  {
   "cell_type": "code",
   "execution_count": 84,
   "metadata": {},
   "outputs": [
    {
     "data": {
      "text/plain": [
       "'西凉老郭'"
      ]
     },
     "execution_count": 84,
     "metadata": {},
     "output_type": "execute_result"
    }
   ],
   "source": [
    "comments_tag_a = soup.select(\"#comments ul li div.avatar a['title']\")\n",
    "# soup.select(\"#comments ul li div.avatar a[href]\")\n",
    "comments_tag_a[0].get('title')\n",
    "type(comments_tag_a[0])"
   ]
  },
  {
   "cell_type": "markdown",
   "metadata": {},
   "source": [
    "### 比较两种选择方法的不同 "
   ]
  },
  {
   "cell_type": "code",
   "execution_count": 80,
   "metadata": {},
   "outputs": [
    {
     "name": "stdout",
     "output_type": "stream",
     "text": [
      "西凉老郭\n",
      "小影\n",
      "漂浮小馄饨\n",
      "潜行者\n",
      "盛夏白瓷桃花酿\n",
      "周小青\n"
     ]
    }
   ],
   "source": [
    "for link in soup.find_all('a'):\n",
    "    if link.get('title') is not None:\n",
    "        print(link.get('title'))"
   ]
  },
  {
   "cell_type": "code",
   "execution_count": 81,
   "metadata": {},
   "outputs": [
    {
     "name": "stdout",
     "output_type": "stream",
     "text": [
      "西凉老郭\n",
      "小影\n",
      "漂浮小馄饨\n",
      "潜行者\n",
      "盛夏白瓷桃花酿\n",
      "周小青\n"
     ]
    }
   ],
   "source": [
    "for link in soup.select(\"#comments ul li div.avatar a[title]\"):\n",
    "    print(link.get('title'))"
   ]
  }
 ],
 "metadata": {
  "kernelspec": {
   "display_name": "Python 3",
   "language": "python",
   "name": "python3"
  },
  "language_info": {
   "codemirror_mode": {
    "name": "ipython",
    "version": 3
   },
   "file_extension": ".py",
   "mimetype": "text/x-python",
   "name": "python",
   "nbconvert_exporter": "python",
   "pygments_lexer": "ipython3",
   "version": "3.6.4"
  }
 },
 "nbformat": 4,
 "nbformat_minor": 2
}
